{
 "cells": [
  {
   "cell_type": "code",
   "execution_count": 1,
   "id": "a692b73c-fc11-4c97-99bb-e760bfc4a002",
   "metadata": {},
   "outputs": [],
   "source": [
    "#TOPIC:: python basic variables "
   ]
  },
  {
   "cell_type": "code",
   "execution_count": 9,
   "id": "0884f84e-8cbd-47cb-8c66-5f218fb55bfc",
   "metadata": {},
   "outputs": [
    {
     "name": "stdout",
     "output_type": "stream",
     "text": [
      "x = 15\n",
      "y = 5\n"
     ]
    }
   ],
   "source": [
    "#1. Declare two variables, `x` and `y`, and assign them integer values. \n",
    "#Swap the values of these variables without using any temporary variable \n",
    "x = 5\n",
    "y = 15 \n",
    "x , y = y , x \n",
    "print('x =' , x)\n",
    "print('y =' , y) \n"
   ]
  },
  {
   "cell_type": "code",
   "execution_count": null,
   "id": "b8a4aba8-601c-4152-9700-56ac15e06d34",
   "metadata": {},
   "outputs": [],
   "source": []
  },
  {
   "cell_type": "code",
   "execution_count": 15,
   "id": "2c9c8157-6774-44e5-8eb8-24000d72ff72",
   "metadata": {},
   "outputs": [
    {
     "name": "stdin",
     "output_type": "stream",
     "text": [
      "length 34\n",
      "breadth 55\n"
     ]
    },
    {
     "name": "stdout",
     "output_type": "stream",
     "text": [
      "Area of Rectangle =1870\n"
     ]
    }
   ],
   "source": [
    "#2.Create a program that calculates the area of a rectangle. Take the length and\n",
    "#width as inputs from the user and store them in variables. Calculate and\n",
    "#display the area \n",
    "\n",
    "a = int(input('length'))\n",
    "b = int(input('breadth'))\n",
    "Area = (a*b) \n",
    "print('Area of Rectangle =' +str(Area)) \n"
   ]
  },
  {
   "cell_type": "code",
   "execution_count": null,
   "id": "9a773ff2-ae56-452e-9928-2a3e5bf694ea",
   "metadata": {},
   "outputs": [],
   "source": []
  },
  {
   "cell_type": "code",
   "execution_count": 17,
   "id": "fab04ca0-57e7-4ab2-bc57-625738ada34b",
   "metadata": {},
   "outputs": [
    {
     "name": "stdin",
     "output_type": "stream",
     "text": [
      "Temperature in Degree Celcius = 27\n"
     ]
    },
    {
     "name": "stdout",
     "output_type": "stream",
     "text": [
      "Temperature in Fahrenheit = 80.6\n"
     ]
    }
   ],
   "source": [
    "#3. Write a Python program that converts temperatures from Celsius to Fahrenheit. \n",
    "#Take the temperature in Celsius as input, store it in a variable,\n",
    "#convert it to Fahrenheit, and display the result.\n",
    "\n",
    "c = int(input('Temperature in Degree Celcius ='))\n",
    "f = c*1.8+32 \n",
    "print('Temperature in Fahrenheit = ' +str(f))"
   ]
  },
  {
   "cell_type": "code",
   "execution_count": null,
   "id": "24ab21c8-43b7-4362-b24c-1ff2abcfcb93",
   "metadata": {},
   "outputs": [],
   "source": []
  },
  {
   "cell_type": "code",
   "execution_count": 18,
   "id": "8d8f9328-79d1-45f9-9417-f02b782ab526",
   "metadata": {},
   "outputs": [],
   "source": [
    "#TOPIC: String Based Questions"
   ]
  },
  {
   "cell_type": "code",
   "execution_count": 27,
   "id": "6a25c715-207f-4b19-bde2-68ced4bbbe90",
   "metadata": {},
   "outputs": [
    {
     "name": "stdin",
     "output_type": "stream",
     "text": [
      " Hello world\n"
     ]
    },
    {
     "name": "stdout",
     "output_type": "stream",
     "text": [
      "11\n"
     ]
    }
   ],
   "source": [
    "#1. Write a Python program that takes a string as input and prints the length of the string\n",
    "\n",
    "s1 = input() \n",
    "print(len(s1))"
   ]
  },
  {
   "cell_type": "code",
   "execution_count": null,
   "id": "c9de808b-fcfa-442a-8e62-1068cdedafa2",
   "metadata": {},
   "outputs": [],
   "source": []
  },
  {
   "cell_type": "code",
   "execution_count": 15,
   "id": "683c859c-3224-4ba3-933b-720e004251b0",
   "metadata": {},
   "outputs": [
    {
     "name": "stdin",
     "output_type": "stream",
     "text": [
      " welcome\n"
     ]
    },
    {
     "name": "stdout",
     "output_type": "stream",
     "text": [
      "Number of vowels: 1\n"
     ]
    }
   ],
   "source": [
    "#2. Create a program that takes a sentence from the user and counts the number of vowels (a, e, i, o, u) in the string\n",
    "\n",
    "s3 = input()\n",
    "vowel_count = 0\n",
    "'for char in sentence :'\n",
    "char_lower = 'char.lower()'\n",
    "'if char_lower in a,e,i,o,u :'\n",
    "vowel_count+= 1 \n",
    "print('Number of vowels:', vowel_count) "
   ]
  },
  {
   "cell_type": "code",
   "execution_count": null,
   "id": "3261d817-7141-470b-a72a-5e58ba19873b",
   "metadata": {},
   "outputs": [],
   "source": []
  },
  {
   "cell_type": "code",
   "execution_count": 55,
   "id": "e57d6de6-0b00-4daa-86f5-020f838f0352",
   "metadata": {},
   "outputs": [
    {
     "data": {
      "text/plain": [
       "'gnineve dooG'"
      ]
     },
     "execution_count": 55,
     "metadata": {},
     "output_type": "execute_result"
    }
   ],
   "source": [
    "#3. Given a string, reverse the order of characters using string slicing and print the reversed string.\n",
    "\n",
    "s4 = ('Good evening')\n",
    "s4[::-1]"
   ]
  },
  {
   "cell_type": "code",
   "execution_count": null,
   "id": "cdd32936-1bcc-4faf-859f-7c01d73cfbd2",
   "metadata": {},
   "outputs": [],
   "source": []
  },
  {
   "cell_type": "code",
   "execution_count": 4,
   "id": "f3651ae4-0705-49bf-9deb-3b4a239ddca5",
   "metadata": {},
   "outputs": [
    {
     "name": "stdin",
     "output_type": "stream",
     "text": [
      "Enter the value: malayalam\n"
     ]
    },
    {
     "name": "stdout",
     "output_type": "stream",
     "text": [
      "the input value is palindrome\n"
     ]
    }
   ],
   "source": [
    "#4. Write a program that takes a string as input and checks if it is a palindrome\n",
    "#(reads the same forwards and backwards)\n",
    "\n",
    "s5 = input('Enter the value:')\n",
    "s6 = s5.replace('','').lower() \n",
    "s7 = s6[::-1] \n",
    "if s6 == s7:\n",
    "    print('the input value is palindrome')\n",
    "else: \n",
    "    print('the input value is not palindrome') "
   ]
  },
  {
   "cell_type": "code",
   "execution_count": null,
   "id": "b1144a98-eb2c-46a7-ae5b-de95c2634fa2",
   "metadata": {},
   "outputs": [],
   "source": []
  },
  {
   "cell_type": "code",
   "execution_count": 6,
   "id": "1c98f47b-b236-4506-ad99-d65a8e5f8fbe",
   "metadata": {},
   "outputs": [
    {
     "name": "stdin",
     "output_type": "stream",
     "text": [
      "enter a sentence: how are you\n"
     ]
    },
    {
     "name": "stdout",
     "output_type": "stream",
     "text": [
      "new string without spaces:  h\n",
      "new string without spaces:  ho\n",
      "new string without spaces:  how\n",
      "new string without spaces:  howa\n",
      "new string without spaces:  howar\n",
      "new string without spaces:  howare\n",
      "new string without spaces:  howarey\n",
      "new string without spaces:  howareyo\n",
      "new string without spaces:  howareyou\n"
     ]
    }
   ],
   "source": [
    "#5. Create a program that takes a string as input and removes all the spaces from it. \n",
    "#Print the modified string without spaces. \n",
    "\n",
    "s9 = input('enter a sentence:') \n",
    "s10 = ' ' \n",
    "for char in s9:\n",
    "    if char != ' ':\n",
    "        s10 += char\n",
    "        print('new string without spaces:', s10) "
   ]
  },
  {
   "cell_type": "code",
   "execution_count": null,
   "id": "7fe65b40-78a4-4d21-a3a5-223a0f211331",
   "metadata": {},
   "outputs": [],
   "source": []
  },
  {
   "cell_type": "code",
   "execution_count": null,
   "id": "fc32f6a5-f7ba-431a-bfe4-0b0dc1999835",
   "metadata": {},
   "outputs": [],
   "source": []
  }
 ],
 "metadata": {
  "kernelspec": {
   "display_name": "Python 3 (ipykernel)",
   "language": "python",
   "name": "python3"
  },
  "language_info": {
   "codemirror_mode": {
    "name": "ipython",
    "version": 3
   },
   "file_extension": ".py",
   "mimetype": "text/x-python",
   "name": "python",
   "nbconvert_exporter": "python",
   "pygments_lexer": "ipython3",
   "version": "3.10.8"
  }
 },
 "nbformat": 4,
 "nbformat_minor": 5
}
